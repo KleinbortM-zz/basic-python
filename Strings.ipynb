{
 "cells": [
  {
   "cell_type": "markdown",
   "metadata": {},
   "source": [
    "# Strings\n",
    "\n",
    "\n",
    "The goal for this section is to:\n",
    "\n",
    "- Define variables\n",
    "- Learn what a method is\n",
    "    - Learn the most popular string methods\n",
    "- Learn most of the in-built python functions\n",
    "- Learn about some other data types"
   ]
  },
  {
   "cell_type": "markdown",
   "metadata": {},
   "source": [
    "### Defining a variable\n",
    "\n",
    "the syntax for creating a variable called `x`, that holds the value `3` is\n",
    "\n",
    "    x = 3\n",
    "    \n",
    "similarly, the syntax for a variable y holding the text `Hello World!` is\n",
    "\n",
    "    y = 'Hello World!'"
   ]
  },
  {
   "cell_type": "markdown",
   "metadata": {},
   "source": [
    "Create a variable holding your name and surname, such as \n",
    "\n",
    "    name = \"John Smith\""
   ]
  },
  {
   "cell_type": "code",
   "execution_count": null,
   "metadata": {},
   "outputs": [],
   "source": []
  },
  {
   "cell_type": "markdown",
   "metadata": {},
   "source": [
    "### String Methods\n",
    "\n",
    "every variable has some functionality attached to it, where the functionality depends on the content of the variable (never the name). The functionality attached to a variable is called a method\n",
    "\n",
    "Try running the following three snipets of code:\n",
    "\n",
    "> `name.upper()`\n",
    "\n",
    "> `name.count('a')`\n",
    "\n",
    "> `name.startswith('Quentin')`"
   ]
  },
  {
   "cell_type": "code",
   "execution_count": null,
   "metadata": {},
   "outputs": [],
   "source": []
  },
  {
   "cell_type": "markdown",
   "metadata": {},
   "source": [
    "Note: you can press tab after the `.` to get a list of all available methods"
   ]
  },
  {
   "cell_type": "markdown",
   "metadata": {},
   "source": [
    "# Built-In Python Functions\n",
    "\n",
    "Some Python functions exist by themselves, such as \n",
    "\n",
    "> `len()`\n",
    "\n",
    "> `print()`\n",
    "\n",
    "> `max()`\n",
    "\n",
    "> `min()`\n",
    "\n",
    "> `sorted()`\n",
    "\n",
    "Note: The notebook will display built-in functions in green once you type them"
   ]
  },
  {
   "cell_type": "code",
   "execution_count": null,
   "metadata": {},
   "outputs": [],
   "source": []
  }
 ],
 "metadata": {
  "kernelspec": {
   "display_name": "Python 3",
   "language": "python",
   "name": "python3"
  },
  "language_info": {
   "codemirror_mode": {
    "name": "ipython",
    "version": 3
   },
   "file_extension": ".py",
   "mimetype": "text/x-python",
   "name": "python",
   "nbconvert_exporter": "python",
   "pygments_lexer": "ipython3",
   "version": "3.6.5"
  }
 },
 "nbformat": 4,
 "nbformat_minor": 2
}
